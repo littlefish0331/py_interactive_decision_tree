{
 "cells": [
  {
   "cell_type": "code",
   "execution_count": null,
   "metadata": {},
   "outputs": [],
   "source": [
    "from IPython.display import SVG\n",
    "from graphviz import Source\n",
    "from sklearn.tree import DecisionTreeClassifier, export_graphviz\n",
    "from sklearn import tree\n",
    "from ipywidgets import interactive\n",
    "from IPython.display import display  "
   ]
  },
  {
   "cell_type": "code",
   "execution_count": null,
   "metadata": {},
   "outputs": [],
   "source": [
    "from sklearn.datasets import load_iris"
   ]
  },
  {
   "cell_type": "code",
   "execution_count": null,
   "metadata": {},
   "outputs": [],
   "source": [
    "data = load_iris()\n",
    "\n",
    "#Get the feature matrix\n",
    "features = data.data\n",
    "\n",
    "#Get the labels for the sampels\n",
    "target_label = data.target\n",
    "\n",
    "#Get feature names\n",
    "feature_names = data.feature_names"
   ]
  },
  {
   "cell_type": "code",
   "execution_count": null,
   "metadata": {},
   "outputs": [],
   "source": [
    "def plot_tree(crit, split, depth, min_split, min_leaf=0.17):\n",
    "    classifier = DecisionTreeClassifier(random_state = 123, criterion = crit, \n",
    "                                        splitter = split, \n",
    "                                        max_depth = depth, \n",
    "                                        min_samples_split=min_split, \n",
    "                                        min_samples_leaf=min_leaf)\n",
    "    classifier.fit(features, target_label)\n",
    "\n",
    "    graph = Source(tree.export_graphviz(classifier, out_file=None, \n",
    "                                        feature_names=feature_names, \n",
    "                                        class_names=['0', '1', '2'], \n",
    "                                        filled = True))\n",
    "\n",
    "    display(SVG(graph.pipe(format='svg')))\n",
    "    return classifier"
   ]
  },
  {
   "cell_type": "code",
   "execution_count": null,
   "metadata": {},
   "outputs": [],
   "source": [
    "decision_plot = interactive(plot_tree, \n",
    "                            crit = [\"gini\", \"entropy\"], \n",
    "                            split = [\"best\", \"random\"]  , \n",
    "                            depth=[1, 2, 3, 4, 5, 6, 7],\n",
    "                            min_split=(0.1,1), \n",
    "                            min_leaf=(0.1,0.2,0.3,0.5))\n",
    "\n",
    "display(decision_plot)"
   ]
  },
  {
   "cell_type": "code",
   "execution_count": null,
   "metadata": {},
   "outputs": [],
   "source": []
  },
  {
   "cell_type": "code",
   "execution_count": 1,
   "metadata": {},
   "outputs": [],
   "source": [
    "from sklearn.tree import DecisionTreeClassifier, export_graphviz\n",
    "from sklearn import tree\n",
    "from sklearn.datasets import load_wine\n",
    "from IPython.display import SVG\n",
    "from graphviz import Source\n",
    "from IPython.display import display                               \n",
    "from ipywidgets import interactive"
   ]
  },
  {
   "cell_type": "code",
   "execution_count": 2,
   "metadata": {},
   "outputs": [],
   "source": [
    "# load dataset\n",
    "data = load_wine()\n",
    "\n",
    "# feature matrix\n",
    "X = data.data\n",
    "\n",
    "# target vector\n",
    "y = data.target"
   ]
  },
  {
   "cell_type": "code",
   "execution_count": 5,
   "metadata": {},
   "outputs": [],
   "source": [
    "# class labels\n",
    "labels = data.feature_names\n",
    "def plot_tree(crit, split, depth, min_split, min_leaf=0.2):\n",
    "    estimator = DecisionTreeClassifier(random_state = 0,\n",
    "                                   criterion = crit,\n",
    "                                   splitter = split,\n",
    "                                   max_depth = depth,\n",
    "                                   min_samples_split=min_split,\n",
    "                                   min_samples_leaf=min_leaf)\n",
    "    \n",
    "    estimator.fit(X, y)\n",
    "    \n",
    "    graph = Source(tree.export_graphviz(estimator,\n",
    "                                        out_file=None,\n",
    "                                        feature_names=labels,\n",
    "                                        class_names=['0', '1', '2'],\n",
    "                                        filled = True))\n",
    "    display(SVG(graph.pipe(format='svg')))\n",
    "    return estimator"
   ]
  },
  {
   "cell_type": "code",
   "execution_count": 6,
   "metadata": {},
   "outputs": [
    {
     "data": {
      "application/vnd.jupyter.widget-view+json": {
       "model_id": "c45eddc608eb4e4fa74a00f427f76658",
       "version_major": 2,
       "version_minor": 0
      },
      "text/plain": [
       "interactive(children=(Dropdown(description='crit', options=('gini', 'entropy'), value='gini'), Dropdown(descri…"
      ]
     },
     "metadata": {},
     "output_type": "display_data"
    }
   ],
   "source": [
    "inter=interactive(plot_tree ,\n",
    "                  crit = [\"gini\", \"entropy\"],\n",
    "                  split = [\"best\", \"random\"],\n",
    "                  depth=[1,2,3,4],\n",
    "                  min_split=(0.1,1),\n",
    "                  min_leaf=(0.1,0.5))\n",
    "display(inter)"
   ]
  },
  {
   "cell_type": "code",
   "execution_count": null,
   "metadata": {},
   "outputs": [],
   "source": []
  },
  {
   "cell_type": "code",
   "execution_count": null,
   "metadata": {},
   "outputs": [],
   "source": []
  },
  {
   "cell_type": "code",
   "execution_count": null,
   "metadata": {},
   "outputs": [],
   "source": []
  }
 ],
 "metadata": {
  "kernelspec": {
   "display_name": "Python 3",
   "language": "python",
   "name": "python3"
  },
  "language_info": {
   "codemirror_mode": {
    "name": "ipython",
    "version": 3
   },
   "file_extension": ".py",
   "mimetype": "text/x-python",
   "name": "python",
   "nbconvert_exporter": "python",
   "pygments_lexer": "ipython3",
   "version": "3.7.6"
  }
 },
 "nbformat": 4,
 "nbformat_minor": 2
}
