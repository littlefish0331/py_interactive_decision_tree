{
 "cells": [
  {
   "cell_type": "markdown",
   "metadata": {},
   "source": [
    "---\n",
    "\n",
    "# 文件目標\n",
    "\n",
    "想要做出互動式的決策樹視覺化。\n",
    "\n",
    "Google 相關的關鍵字如下: \n",
    "\n",
    "- interactive decision tree\n",
    "- sankey tree\n",
    "- collapse tree (Collapsible Tree)\n"
   ]
  },
  {
   "cell_type": "markdown",
   "metadata": {},
   "source": [
    "# 第一種方法\n",
    "\n",
    "剛好兩個參考網站是不同例子，所以就一起貼上來。\n",
    "\n",
    "參考網站:  \n",
    "\n",
    "- [Interactive Visualization of Decision Trees with Jupyter Widgets](https://towardsdatascience.com/interactive-visualization-of-decision-trees-with-jupyter-widgets-ca15dd312084)\n",
    "\n",
    "- [python \\- Plot Interactive Decision Tree in Jupyter Notebook \\- Stack Overflow](https://stackoverflow.com/questions/50755706/plot-interactive-decision-tree-in-jupyter-notebook): 這個要看 old answer\n"
   ]
  },
  {
   "cell_type": "markdown",
   "metadata": {},
   "source": [
    "---\n",
    "\n",
    "## 第一個例子"
   ]
  },
  {
   "cell_type": "code",
   "execution_count": null,
   "metadata": {},
   "outputs": [],
   "source": [
    "from IPython.display import SVG\n",
    "from graphviz import Source\n",
    "from sklearn.datasets import load_iris\n",
    "from sklearn.tree import DecisionTreeClassifier, export_graphviz\n",
    "from sklearn import tree\n",
    "from ipywidgets import interactive\n",
    "from IPython.display import display  "
   ]
  },
  {
   "cell_type": "code",
   "execution_count": null,
   "metadata": {},
   "outputs": [],
   "source": [
    "# load dataset\n",
    "data = load_iris()\n",
    "\n",
    "#Get the feature matrix\n",
    "features = data.data\n",
    "\n",
    "#Get the labels for the sampels\n",
    "target_label = data.target\n",
    "\n",
    "#Get feature names\n",
    "feature_names = data.feature_names"
   ]
  },
  {
   "cell_type": "code",
   "execution_count": null,
   "metadata": {},
   "outputs": [],
   "source": [
    "def plot_tree(crit, split, depth, min_split, min_leaf=0.17):\n",
    "    classifier = DecisionTreeClassifier(random_state = 123, criterion = crit, \n",
    "                                        splitter = split, \n",
    "                                        max_depth = depth, \n",
    "                                        min_samples_split=min_split, \n",
    "                                        min_samples_leaf=min_leaf)\n",
    "    classifier.fit(features, target_label)\n",
    "\n",
    "    graph = Source(tree.export_graphviz(classifier, out_file=None, \n",
    "                                        feature_names=feature_names, \n",
    "                                        class_names=['0', '1', '2'], \n",
    "                                        filled = True))\n",
    "\n",
    "    display(SVG(graph.pipe(format='svg')))\n",
    "    return classifier"
   ]
  },
  {
   "cell_type": "code",
   "execution_count": null,
   "metadata": {},
   "outputs": [],
   "source": [
    "decision_plot = interactive(plot_tree, \n",
    "                            crit = [\"gini\", \"entropy\"], \n",
    "                            split = [\"best\", \"random\"]  , \n",
    "                            depth=[1, 2, 3, 4, 5],\n",
    "                            min_split=(0.1,1), \n",
    "                            min_leaf=(0.1,0.5))\n",
    "\n",
    "display(decision_plot)"
   ]
  },
  {
   "cell_type": "markdown",
   "metadata": {},
   "source": [
    "---\n",
    "\n",
    "## 第二個例子"
   ]
  },
  {
   "cell_type": "code",
   "execution_count": null,
   "metadata": {},
   "outputs": [],
   "source": [
    "from sklearn.tree import DecisionTreeClassifier, export_graphviz\n",
    "from sklearn import tree\n",
    "from sklearn.datasets import load_wine\n",
    "from IPython.display import SVG\n",
    "from graphviz import Source\n",
    "from IPython.display import display                               \n",
    "from ipywidgets import interactive"
   ]
  },
  {
   "cell_type": "code",
   "execution_count": null,
   "metadata": {},
   "outputs": [],
   "source": [
    "# load dataset\n",
    "data = load_wine()\n",
    "\n",
    "# feature matrix\n",
    "X = data.data\n",
    "\n",
    "# target vector\n",
    "y = data.target\n",
    "\n",
    "# class labels\n",
    "labels = data.feature_names"
   ]
  },
  {
   "cell_type": "code",
   "execution_count": null,
   "metadata": {},
   "outputs": [],
   "source": [
    "def plot_tree(crit, split, depth, min_split, min_leaf=0.2):\n",
    "    estimator = DecisionTreeClassifier(random_state = 0,\n",
    "                                   criterion = crit,\n",
    "                                   splitter = split,\n",
    "                                   max_depth = depth,\n",
    "                                   min_samples_split=min_split,\n",
    "                                   min_samples_leaf=min_leaf)\n",
    "    \n",
    "    estimator.fit(X, y)\n",
    "    \n",
    "    graph = Source(tree.export_graphviz(estimator,\n",
    "                                        out_file=None,\n",
    "                                        feature_names=labels,\n",
    "                                        class_names=['0', '1', '2'],\n",
    "                                        filled = True))\n",
    "    display(SVG(graph.pipe(format='svg')))\n",
    "    return estimator"
   ]
  },
  {
   "cell_type": "code",
   "execution_count": null,
   "metadata": {},
   "outputs": [],
   "source": [
    "inter=interactive(plot_tree ,\n",
    "                  crit = [\"gini\", \"entropy\"],\n",
    "                  split = [\"best\", \"random\"],\n",
    "                  depth=[1,2,3,4],\n",
    "                  min_split=(0.1,1),\n",
    "                  min_leaf=(0.1,1))\n",
    "display(inter)"
   ]
  },
  {
   "cell_type": "markdown",
   "metadata": {},
   "source": [
    "---\n",
    "\n",
    "# 第二種方法\n",
    "\n",
    "還不確定要怎麼用 D3 呈現 .json 檔案。  \n",
    "所以沒有嘗試成功。\n",
    "\n",
    "[See sklearn trees with D3](https://planspace.org/20151129-see_sklearn_trees_with_d3/)\n",
    "\n",
    "[python 3\\.x \\- Create json hierarchy tree from two\\-column dataframe \\(Python3\\) for d3 collapsible tree visual \\- Stack Overflow](https://stackoverflow.com/questions/54756195/create-json-hierarchy-tree-from-two-column-dataframe-python3-for-d3-collapsibl)"
   ]
  },
  {
   "cell_type": "code",
   "execution_count": null,
   "metadata": {},
   "outputs": [],
   "source": [
    "def rules(clf, features, labels, node_index=0):\n",
    "    \"\"\"Structure of rules in a fit decision tree classifier\n",
    "\n",
    "    Parameters\n",
    "    ----------\n",
    "    clf : DecisionTreeClassifier\n",
    "        A tree that has already been fit.\n",
    "\n",
    "    features, labels : lists of str\n",
    "        The names of the features and labels, respectively.\n",
    "\n",
    "    \"\"\"\n",
    "    node = {}\n",
    "    if clf.tree_.children_left[node_index] == -1:  # indicates leaf\n",
    "        count_labels = zip(clf.tree_.value[node_index, 0], labels)\n",
    "        node['name'] = ', '.join(('{} of {}'.format(int(count), label)\n",
    "                                  for count, label in count_labels))\n",
    "    else:\n",
    "        feature = features[clf.tree_.feature[node_index]]\n",
    "        threshold = clf.tree_.threshold[node_index]\n",
    "        node['name'] = '{} > {}'.format(feature, threshold)\n",
    "        left_index = clf.tree_.children_left[node_index]\n",
    "        right_index = clf.tree_.children_right[node_index]\n",
    "        node['children'] = [rules(clf, features, labels, right_index),\n",
    "                            rules(clf, features, labels, left_index)]\n",
    "    return node"
   ]
  },
  {
   "cell_type": "code",
   "execution_count": null,
   "metadata": {},
   "outputs": [],
   "source": [
    "from sklearn.datasets import load_iris\n",
    "from sklearn.tree import DecisionTreeClassifier\n",
    "\n",
    "data = load_iris()\n",
    "\n",
    "clf = DecisionTreeClassifier(max_depth=3)\n",
    "clf.fit(data.data, data.target)\n",
    "\n",
    "rules(clf, data.feature_names, data.target_names)"
   ]
  },
  {
   "cell_type": "code",
   "execution_count": null,
   "metadata": {},
   "outputs": [],
   "source": [
    "import json\n",
    "\n",
    "r = rules(clf, data.feature_names, data.target_names)\n",
    "with open('rules.json', 'w') as f:\n",
    "    f.write(json.dumps(r))"
   ]
  },
  {
   "cell_type": "markdown",
   "metadata": {},
   "source": [
    "---\n",
    "\n",
    "# 第三種方法(不好，是網路)\n",
    "\n",
    "[python \\- Plot Interactive Decision Tree in Jupyter Notebook \\- Stack Overflow](https://stackoverflow.com/questions/50755706/plot-interactive-decision-tree-in-jupyter-notebook)\n"
   ]
  },
  {
   "cell_type": "code",
   "execution_count": null,
   "metadata": {},
   "outputs": [],
   "source": [
    "%%html\n",
    "<div id=\"d3-example\"></div>\n",
    "<style>\n",
    "\n",
    ".node circle {\n",
    "  cursor: pointer;\n",
    "  stroke: #3182bd;\n",
    "  stroke-width: 1.5px;\n",
    "}\n",
    "\n",
    ".node text {\n",
    "  font: 12px sans-serif;\n",
    "  pointer-events: none;\n",
    "  text-anchor: middle;\n",
    "}\n",
    "\n",
    "line.link {\n",
    "  fill: none;\n",
    "  stroke: #9ecae1;\n",
    "  stroke-width: 1.5px;\n",
    "}\n",
    "</style>"
   ]
  },
  {
   "cell_type": "code",
   "execution_count": null,
   "metadata": {},
   "outputs": [],
   "source": [
    "%%javascript\n",
    "// We load the d3.js library from the Web.\n",
    "require.config({paths:\n",
    "    {d3: \"http://d3js.org/d3.v3.min\"}});\n",
    "require([\"d3\"], function(d3) {\n",
    "  // The code in this block is executed when the\n",
    "  // d3.js library has been loaded.\n",
    "\n",
    "  // First, we specify the size of the canvas\n",
    "  // containing the visualization (size of the\n",
    "  // <div> element).\n",
    "  var width = 960,\n",
    "    height = 500,\n",
    "    root;\n",
    "\n",
    "  // We create a color scale.\n",
    "  var color = d3.scale.category10();\n",
    "\n",
    "  // We create a force-directed dynamic graph layout.\n",
    "//   var force = d3.layout.force()\n",
    "//     .charge(-120)\n",
    "//     .linkDistance(30)\n",
    "//     .size([width, height]);\n",
    "    var force = d3.layout.force()\n",
    "    .linkDistance(80)\n",
    "    .charge(-120)\n",
    "    .gravity(.05)\n",
    "    .size([width, height])\n",
    "    .on(\"tick\", tick);\n",
    "var svg = d3.select(\"body\").append(\"svg\")\n",
    "    .attr(\"width\", width)\n",
    "    .attr(\"height\", height);\n",
    "\n",
    "var link = svg.selectAll(\".link\"),\n",
    "    node = svg.selectAll(\".node\");\n",
    "\n",
    "  // In the <div> element, we create a <svg> graphic\n",
    "  // that will contain our interactive visualization.\n",
    " var svg = d3.select(\"#d3-example\").select(\"svg\")\n",
    "  if (svg.empty()) {\n",
    "    svg = d3.select(\"#d3-example\").append(\"svg\")\n",
    "          .attr(\"width\", width)\n",
    "          .attr(\"height\", height);\n",
    "  }\n",
    "var link = svg.selectAll(\".link\"),\n",
    "    node = svg.selectAll(\".node\");\n",
    "  // We load the JSON file.\n",
    "  d3.json(\"graph2.json\", function(error, json) { //檔案要放這裡!!!\n",
    "    // In this block, the file has been loaded\n",
    "    // and the 'graph' object contains our graph.\n",
    " if (error) throw error;\n",
    "else\n",
    "    test(1);\n",
    "root = json;\n",
    "      test(2);\n",
    "      console.log(root);\n",
    "  update();\n",
    "\n",
    "\n",
    "\n",
    "  });\n",
    "    function test(rr){console.log('yolo'+String(rr));}\n",
    "\n",
    "function update() {\n",
    "    test(3);\n",
    "  var nodes = flatten(root),\n",
    "      links = d3.layout.tree().links(nodes);\n",
    "\n",
    "  // Restart the force layout.\n",
    "  force\n",
    "      .nodes(nodes)\n",
    "      .links(links)\n",
    "      .start();\n",
    "\n",
    "  // Update links.\n",
    "  link = link.data(links, function(d) { return d.target.id; });\n",
    "\n",
    "  link.exit().remove();\n",
    "\n",
    "  link.enter().insert(\"line\", \".node\")\n",
    "      .attr(\"class\", \"link\");\n",
    "\n",
    "  // Update nodes.\n",
    "  node = node.data(nodes, function(d) { return d.id; });\n",
    "\n",
    "  node.exit().remove();\n",
    "\n",
    "  var nodeEnter = node.enter().append(\"g\")\n",
    "      .attr(\"class\", \"node\")\n",
    "      .on(\"click\", click)\n",
    "      .call(force.drag);\n",
    "\n",
    "  nodeEnter.append(\"circle\")\n",
    "      .attr(\"r\", function(d) { return Math.sqrt(d.size) / 10 || 4.5; });\n",
    "\n",
    "  nodeEnter.append(\"text\")\n",
    "      .attr(\"dy\", \".35em\")\n",
    "      .text(function(d) { return d.name; });\n",
    "\n",
    "  node.select(\"circle\")\n",
    "      .style(\"fill\", color);\n",
    "}\n",
    "    function tick() {\n",
    "  link.attr(\"x1\", function(d) { return d.source.x; })\n",
    "      .attr(\"y1\", function(d) { return d.source.y; })\n",
    "      .attr(\"x2\", function(d) { return d.target.x; })\n",
    "      .attr(\"y2\", function(d) { return d.target.y; });\n",
    "\n",
    "  node.attr(\"transform\", function(d) { return \"translate(\" + d.x + \",\" + d.y + \")\"; });\n",
    "}\n",
    "          function color(d) {\n",
    "  return d._children ? \"#3182bd\" // collapsed package\n",
    "      : d.children ? \"#c6dbef\" // expanded package\n",
    "      : \"#fd8d3c\"; // leaf node\n",
    "}\n",
    "      // Toggle children on click.\n",
    "function click(d) {\n",
    "  if (d3.event.defaultPrevented) return; // ignore drag\n",
    "  if (d.children) {\n",
    "    d._children = d.children;\n",
    "    d.children = null;\n",
    "  } else {\n",
    "    d.children = d._children;\n",
    "    d._children = null;\n",
    "  }\n",
    "  update();\n",
    "}\n",
    "    function flatten(root) {\n",
    "  var nodes = [], i = 0;\n",
    "\n",
    "  function recurse(node) {\n",
    "    if (node.children) node.children.forEach(recurse);\n",
    "    if (!node.id) node.id = ++i;\n",
    "    nodes.push(node);\n",
    "  }\n",
    "\n",
    "  recurse(root);\n",
    "  return nodes;\n",
    "}\n",
    "\n",
    "});"
   ]
  },
  {
   "cell_type": "code",
   "execution_count": null,
   "metadata": {},
   "outputs": [],
   "source": [
    "# 看一下自己的json檔案\n",
    "\n",
    "import os\n",
    "\n",
    "#  my custom js\n",
    "if os.path.isfile('graph2.json'):\n",
    "    with open('graph2.json') as f:\n",
    "        print(f.read())\n",
    "else:\n",
    "    print(\"You don't have a custom.js file\")"
   ]
  },
  {
   "cell_type": "markdown",
   "metadata": {},
   "source": [
    "---\n",
    "\n",
    "# 第四種方法\n",
    "\n",
    "我目前最滿意的作法，但是 chrome 開啟html檔案好像會有問題。  \n",
    "而且目前就是輸出 .json 檔案，可是視覺話的部分還是要寫 D3 跟 html 做呼叫這樣。\n",
    "\n",
    "p.s. 參考資料有 html 的模板。\n",
    "\n",
    "[Visualization of scikit\\-learn Decision Trees with d3\\.js – fractalytics](http://fractalytics.io/visualization-scikit-learn-decision-trees-d3-js)\n",
    "\n",
    "chrome 無法自動讀取 .json 檔案問題:  \n",
    "[Ajax 请求本地 Json 出错 · Issue \\#10 · endRuz/Blog](https://github.com/endRuz/Blog/issues/10)\n",
    "> 記得設定完之後，還要把全部的 chrome 關閉，重開之後才會生效。\n"
   ]
  },
  {
   "cell_type": "code",
   "execution_count": null,
   "metadata": {},
   "outputs": [],
   "source": [
    "import json\n",
    "import pandas as pd\n",
    "import numpy as np\n",
    "from sklearn.tree import DecisionTreeClassifier  "
   ]
  },
  {
   "cell_type": "code",
   "execution_count": null,
   "metadata": {},
   "outputs": [],
   "source": [
    "#load data from flat file\n",
    "df=pd.read_csv(\"./sklearn-tree-d3js-master/bank.csv\",sep=';')\n",
    "df.dropna(inplace=True)"
   ]
  },
  {
   "cell_type": "code",
   "execution_count": null,
   "metadata": {},
   "outputs": [],
   "source": [
    "#set the label colomne \n",
    "label_name = 'y'\n",
    "df.sort_values([label_name], ascending=[True], inplace=True)\n",
    "df = df.sort_index(by=[label_name], ascending=[True])\n",
    "\n",
    "features = (df.drop(label_name,axis=1).columns.values)\n",
    "\n",
    "is_number = np.vectorize(lambda x: np.issubdtype(x, np.number))\n",
    "boolfeatures= is_number(df.drop(label_name,axis=1).dtypes)\n",
    "\n",
    "df_dummy = pd.get_dummies(df.drop(label_name,axis=1),prefix_sep='_-_')"
   ]
  },
  {
   "cell_type": "code",
   "execution_count": null,
   "metadata": {},
   "outputs": [],
   "source": [
    "def generator_1(clf, features, labels,original_features, node_index=0,side=0):\n",
    "  \n",
    "    node = {}\n",
    "    if clf.tree_.children_left[node_index] == -1:  # indicates leaf\n",
    "        count_labels = zip(clf.tree_.value[node_index, 0], labels)\n",
    "        node['name'] = ', '.join(('{} of {}'.format(int(count), label)\n",
    "                                  for count, label in count_labels))\n",
    "        node['size'] = sum( clf.tree_.value[node_index, 0]  )   \n",
    "        node['side'] = 'left' if side == 'l' else 'right'                      \n",
    "    else:\n",
    "\n",
    "        count_labels = zip(clf.tree_.value[node_index, 0], labels)\n",
    "        node['pred'] = ', '.join(('{} of {}'.format(int(count), label)\n",
    "                                  for count, label in count_labels))\n",
    "                                      \n",
    "        node['side'] = 'left' if side == 'l' else 'right'                              \n",
    "        feature = features[clf.tree_.feature[node_index]]\n",
    "        threshold = clf.tree_.threshold[node_index]\n",
    "        \n",
    "        if ('_-_' in feature) and (feature not in original_features):\n",
    "            node['name'] =  '{} = {}'.format(feature.split('_-_')[0], feature.split('_-_')[1] )\n",
    "            node['type'] = 'categorical'\n",
    "        else:\n",
    "            node['name'] = '{} > {}'.format(feature, round(threshold,2) )\n",
    "            node['type'] = 'numerical'\n",
    "        \n",
    "        left_index = clf.tree_.children_left[node_index]\n",
    "        right_index = clf.tree_.children_right[node_index]\n",
    "        \n",
    "        node['size'] = sum (clf.tree_.value[node_index, 0])\n",
    "        node['children'] = [generator_1(clf, features, labels, original_features, right_index,'r'),\n",
    "                            generator_1(clf, features, labels, original_features, left_index,'l')]\n",
    "                            \n",
    "    return node"
   ]
  },
  {
   "cell_type": "code",
   "execution_count": null,
   "metadata": {},
   "outputs": [],
   "source": [
    "def generator_2(clf, features, labels,original_features, node_index=0,side=0,prev_index=0):\n",
    "\n",
    "    node = {}\n",
    "    if clf.tree_.children_left[node_index] == -1:  # indicates leaf\n",
    "        count_labels = zip(clf.tree_.value[node_index, 0], labels)\n",
    "        node['pred'] = ', '.join(('{} of {}'.format(int(count), label)\n",
    "                                  for count, label in count_labels))\n",
    "                                      \n",
    "        node['side'] = 'left' if side == 'l' else 'right'                              \n",
    "        feature = features[clf.tree_.feature[prev_index]]\n",
    "        threshold = clf.tree_.threshold[prev_index]\n",
    "        \n",
    "            \n",
    "        if node_index == 0:\n",
    "            node[\"name\"] = 'Root >'\n",
    "        elif ('_-_' in feature) and (feature not in original_features):\n",
    "            \n",
    "            node['name'] =  '{} = {}'.format(feature.split('_-_')[0], feature.split('_-_')[1] ) if side == 'r' else '{} != {}'.format(feature.split('_-_')[0], feature.split('_-_')[1] )  \n",
    "            node['type'] = 'categorical'\n",
    "        else:\n",
    "            node['name'] = '{} > {}'.format(feature, round(threshold,2) ) if side == 'r' else '{} <= {}'.format(feature, round(threshold,2) ) \n",
    "            node['type'] = 'numerical'\n",
    "        \n",
    "        left_index = clf.tree_.children_left[node_index]\n",
    "        right_index = clf.tree_.children_right[node_index]\n",
    "        \n",
    "        node['size'] = sum (clf.tree_.value[node_index, 0])\n",
    "           \n",
    "    else:\n",
    "\n",
    "        count_labels = zip(clf.tree_.value[node_index, 0], labels)\n",
    "        node['pred'] = ', '.join(('{} of {}'.format(int(count), label)\n",
    "                                  for count, label in count_labels))\n",
    "                                      \n",
    "        node['side'] = 'left' if side == 'l' else 'right'                              \n",
    "        feature = features[clf.tree_.feature[prev_index]]\n",
    "        threshold = clf.tree_.threshold[prev_index]\n",
    "        \n",
    "            \n",
    "        if node_index == 0:\n",
    "            node[\"name\"] = 'Root >'\n",
    "        elif ('_-_' in feature) and (feature not in original_features):\n",
    "            \n",
    "            node['name'] =  '{} = {}'.format(feature.split('_-_')[0], feature.split('_-_')[1] ) if side == 'r' else '{} != {}'.format(feature.split('_-_')[0], feature.split('_-_')[1] )  \n",
    "            node['type'] = 'categorical'\n",
    "        else:\n",
    "            node['name'] = '{} > {}'.format(feature, round(threshold,2) ) if side == 'r' else '{} <= {}'.format(feature, round(threshold,2) ) \n",
    "            node['type'] = 'numerical'\n",
    "        \n",
    "        left_index = clf.tree_.children_left[node_index]\n",
    "        right_index = clf.tree_.children_right[node_index]\n",
    "        \n",
    "        node['size'] = sum (clf.tree_.value[node_index, 0])\n",
    "        node['children'] = [generator_2(clf, features, labels, original_features, right_index,'r',node_index),\n",
    "                            generator_2(clf, features, labels, original_features, left_index,'l',node_index)]\n",
    "                            \n",
    "        \n",
    "    return node"
   ]
  },
  {
   "cell_type": "code",
   "execution_count": null,
   "metadata": {},
   "outputs": [],
   "source": [
    "clf = DecisionTreeClassifier(max_depth=5)\n",
    "clf.fit(df_dummy, df[label_name])\n",
    "\n",
    "io=generator_1(clf, df_dummy.columns,np.unique(df[label_name]),features)\n",
    "\n",
    "print(json.dumps(io, indent=4))"
   ]
  },
  {
   "cell_type": "code",
   "execution_count": null,
   "metadata": {},
   "outputs": [],
   "source": [
    "with open('./sklearn-tree-d3js-master/structureC1.json', 'w') as outfile:\n",
    "    json.dump(io, outfile, indent=4)"
   ]
  },
  {
   "cell_type": "code",
   "execution_count": null,
   "metadata": {},
   "outputs": [],
   "source": [
    "io = generator_2(clf, df_dummy.columns,np.unique(df[label_name]),features)\n",
    "print(json.dumps(io, indent=4))"
   ]
  },
  {
   "cell_type": "code",
   "execution_count": null,
   "metadata": {},
   "outputs": [],
   "source": [
    "with open('./sklearn-tree-d3js-master/structureC2.json', 'w') as outfile:\n",
    "    json.dump(io, outfile, indent=4)"
   ]
  },
  {
   "cell_type": "code",
   "execution_count": 18,
   "metadata": {},
   "outputs": [
    {
     "data": {
      "text/plain": [
       "True"
      ]
     },
     "execution_count": 18,
     "metadata": {},
     "output_type": "execute_result"
    }
   ],
   "source": [
    "# 開啟 html 的參考方式\n",
    "# https://stackoverflow.com/questions/47926088/how-to-get-webbrowser-module-for-python-3-6-using-pip\n",
    "# https://programminghistorian.org/en/lessons/creating-and-viewing-html-files-with-python\n",
    "\n",
    "import webbrowser\n",
    "# webbrowser.open('file:///E:/NCHC/00_skill_tips/python_decision_tree_interactive/sklearn-tree-d3js-master/index.html')\n",
    "# webbrowser.open('https://www.facebook.com')\n",
    "# webbrowser.open_new_tab('file:///E:/NCHC/00_skill_tips/python_decision_tree_interactive/sklearn-tree-d3js-master/index.html')"
   ]
  },
  {
   "cell_type": "markdown",
   "metadata": {},
   "source": [
    "---\n",
    "\n",
    "# 第五種方法\n",
    "\n",
    "還沒嘗試成功，感覺他的 display 功能要在 Azure 中實現才行。\n",
    "\n",
    "[視覺效果 \\- Azure Databricks \\| Microsoft Docs](https://docs.microsoft.com/zh-tw/azure/databricks/notebooks/visualizations/)\n"
   ]
  },
  {
   "cell_type": "code",
   "execution_count": 2,
   "metadata": {},
   "outputs": [],
   "source": [
    "import pyspark"
   ]
  },
  {
   "cell_type": "code",
   "execution_count": 3,
   "metadata": {},
   "outputs": [
    {
     "ename": "NameError",
     "evalue": "name 'spark' is not defined",
     "output_type": "error",
     "traceback": [
      "\u001b[1;31m---------------------------------------------------------------------------\u001b[0m",
      "\u001b[1;31mNameError\u001b[0m                                 Traceback (most recent call last)",
      "\u001b[1;32m<ipython-input-3-d606902a24f4>\u001b[0m in \u001b[0;36m<module>\u001b[1;34m\u001b[0m\n\u001b[1;32m----> 1\u001b[1;33m \u001b[0mtrainingDF\u001b[0m \u001b[1;33m=\u001b[0m \u001b[0mspark\u001b[0m\u001b[1;33m.\u001b[0m\u001b[0mread\u001b[0m\u001b[1;33m.\u001b[0m\u001b[0mformat\u001b[0m\u001b[1;33m(\u001b[0m\u001b[1;34m\"libsvm\"\u001b[0m\u001b[1;33m)\u001b[0m\u001b[1;33m.\u001b[0m\u001b[0mload\u001b[0m\u001b[1;33m(\u001b[0m\u001b[1;34m\"/databricks-datasets/mnist-digits/data-001/mnist-digits-train.txt\"\u001b[0m\u001b[1;33m)\u001b[0m\u001b[1;33m.\u001b[0m\u001b[0mcache\u001b[0m\u001b[1;33m(\u001b[0m\u001b[1;33m)\u001b[0m\u001b[1;33m\u001b[0m\u001b[1;33m\u001b[0m\u001b[0m\n\u001b[0m\u001b[0;32m      2\u001b[0m \u001b[0mtestDF\u001b[0m \u001b[1;33m=\u001b[0m \u001b[0mspark\u001b[0m\u001b[1;33m.\u001b[0m\u001b[0mread\u001b[0m\u001b[1;33m.\u001b[0m\u001b[0mformat\u001b[0m\u001b[1;33m(\u001b[0m\u001b[1;34m\"libsvm\"\u001b[0m\u001b[1;33m)\u001b[0m\u001b[1;33m.\u001b[0m\u001b[0mload\u001b[0m\u001b[1;33m(\u001b[0m\u001b[1;34m\"/databricks-datasets/mnist-digits/data-001/mnist-digits-test.txt\"\u001b[0m\u001b[1;33m)\u001b[0m\u001b[1;33m.\u001b[0m\u001b[0mcache\u001b[0m\u001b[1;33m(\u001b[0m\u001b[1;33m)\u001b[0m\u001b[1;33m\u001b[0m\u001b[1;33m\u001b[0m\u001b[0m\n\u001b[0;32m      3\u001b[0m \u001b[1;33m\u001b[0m\u001b[0m\n\u001b[0;32m      4\u001b[0m \u001b[1;32mfrom\u001b[0m \u001b[0mpyspark\u001b[0m\u001b[1;33m.\u001b[0m\u001b[0mml\u001b[0m\u001b[1;33m.\u001b[0m\u001b[0mclassification\u001b[0m \u001b[1;32mimport\u001b[0m \u001b[0mDecisionTreeClassifier\u001b[0m\u001b[1;33m\u001b[0m\u001b[1;33m\u001b[0m\u001b[0m\n\u001b[0;32m      5\u001b[0m \u001b[1;32mfrom\u001b[0m \u001b[0mpyspark\u001b[0m\u001b[1;33m.\u001b[0m\u001b[0mml\u001b[0m\u001b[1;33m.\u001b[0m\u001b[0mfeature\u001b[0m \u001b[1;32mimport\u001b[0m \u001b[0mStringIndexer\u001b[0m\u001b[1;33m\u001b[0m\u001b[1;33m\u001b[0m\u001b[0m\n",
      "\u001b[1;31mNameError\u001b[0m: name 'spark' is not defined"
     ]
    }
   ],
   "source": [
    "trainingDF = spark.read.format(\"libsvm\").load(\"/databricks-datasets/mnist-digits/data-001/mnist-digits-train.txt\").cache()\n",
    "testDF = spark.read.format(\"libsvm\").load(\"/databricks-datasets/mnist-digits/data-001/mnist-digits-test.txt\").cache()\n",
    "\n",
    "from pyspark.ml.classification import DecisionTreeClassifier\n",
    "from pyspark.ml.feature import StringIndexer\n",
    "from pyspark.ml import Pipeline\n",
    "\n",
    "indexer = StringIndexer().setInputCol(\"label\").setOutputCol(\"indexedLabel\")\n",
    "\n",
    "dtc = DecisionTreeClassifier().setLabelCol(\"indexedLabel\")\n",
    "\n",
    "# Chain indexer + dtc together into a single ML Pipeline.\n",
    "pipeline = Pipeline().setStages([indexer, dtc])\n",
    "\n",
    "model = pipeline.fit(trainingDF)\n",
    "display(model.stages[-1])"
   ]
  },
  {
   "cell_type": "code",
   "execution_count": null,
   "metadata": {},
   "outputs": [],
   "source": []
  }
 ],
 "metadata": {
  "kernelspec": {
   "display_name": "Python 3",
   "language": "python",
   "name": "python3"
  },
  "language_info": {
   "codemirror_mode": {
    "name": "ipython",
    "version": 3
   },
   "file_extension": ".py",
   "mimetype": "text/x-python",
   "name": "python",
   "nbconvert_exporter": "python",
   "pygments_lexer": "ipython3",
   "version": "3.7.6"
  }
 },
 "nbformat": 4,
 "nbformat_minor": 2
}
